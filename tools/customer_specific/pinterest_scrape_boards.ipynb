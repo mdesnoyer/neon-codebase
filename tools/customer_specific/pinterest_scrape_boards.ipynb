{
 "cells": [
  {
   "cell_type": "code",
   "execution_count": 38,
   "metadata": {
    "collapsed": false
   },
   "outputs": [],
   "source": [
    "import concurrent.futures\n",
    "import urllib\n",
    "import json\n",
    "import time\n",
    "import os\n",
    "import os.path\n",
    "import re\n",
    "from bs4 import BeautifulSoup"
   ]
  },
  {
   "cell_type": "code",
   "execution_count": 39,
   "metadata": {
    "collapsed": true
   },
   "outputs": [],
   "source": [
    "BASE_DIR = '/data/neon/customer_images/pinterest'\n",
    "QUERIES = ['nursery', 'cake', 'woodworking', 'sailboat', 'travel', 'hiking', 'spring dress', 'spring', \n",
    "           'italian recipes', 'dogs']\n",
    "API_TOKEN = 'AaBgobGn8YvYxWKnOX6ruHNdaW3_FHMOb9gvjGRDT8aQJsAr2QAAAAA'\n",
    "BOARDS_PER_QUERY = 10\n",
    "IMAGES_PER_BOARD = 200"
   ]
  },
  {
   "cell_type": "code",
   "execution_count": 40,
   "metadata": {
    "collapsed": false
   },
   "outputs": [],
   "source": [
    "def search_for_boards(query, max_boards=None):\n",
    "    '''Search for boards. Returns a list of board names'''\n",
    "    url = 'https://www.pinterest.com/search/boards/?%s' % urllib.urlencode({'q': query})\n",
    "    page = urllib.urlopen(url).read()\n",
    "    soup = BeautifulSoup(page, 'html.parser')\n",
    "    for script_tag in soup.find_all('script'):\n",
    "        if script_tag.attrs.get('type') == 'application/json' and script_tag.attrs.get('id') == 'jsInit1':\n",
    "            data = json.loads(script_tag.string)\n",
    "            rv = [x['url'].strip('/') for x in data['tree']['data']['results']]\n",
    "            if max_boards:\n",
    "                rv = rv[:max_boards]\n",
    "            return rv\n",
    "        \n",
    "    raise IOError('Could not find boards for query %s' % query)\n"
   ]
  },
  {
   "cell_type": "code",
   "execution_count": 41,
   "metadata": {
    "collapsed": true
   },
   "outputs": [],
   "source": [
    "def iterate_board_image_urls(board, max_images=None):\n",
    "    url = 'https://api.pinterest.com/v1/boards/%s/pins/?cursor=&access_token=%s&fields=image' % (board, API_TOKEN)\n",
    "    \n",
    "    image_count = 0\n",
    "    while url:\n",
    "        data = json.loads(urllib.urlopen(url).read())\n",
    "        url = data['page'].get('next')\n",
    "        for entry in data['data']:\n",
    "            if max_images and image_count >= max_images:\n",
    "                return\n",
    "            try:\n",
    "                yield entry['image']['original']['url']\n",
    "                image_count += 1\n",
    "            except KeyError:\n",
    "                pass\n"
   ]
  },
  {
   "cell_type": "code",
   "execution_count": 42,
   "metadata": {
    "collapsed": false
   },
   "outputs": [],
   "source": [
    "def process_board(query, board):\n",
    "    d = os.path.join(BASE_DIR, query, board)\n",
    "    if not os.path.exists(d):\n",
    "        os.makedirs(d)\n",
    "        \n",
    "    for url in iterate_board_image_urls(board, max_images=IMAGES_PER_BOARD):\n",
    "        fn = os.path.join(d, os.path.basename(url))\n",
    "        if not os.path.exists(fn):\n",
    "            urllib.urlretrieve(url, fn)"
   ]
  },
  {
   "cell_type": "code",
   "execution_count": 43,
   "metadata": {
    "collapsed": false
   },
   "outputs": [],
   "source": [
    "def process_query(query):\n",
    "    for board in search_for_boards(query, BOARDS_PER_QUERY):\n",
    "        print 'Processing board %s' % board\n",
    "        process_board(query, board)\n"
   ]
  },
  {
   "cell_type": "code",
   "execution_count": 45,
   "metadata": {
    "collapsed": false
   },
   "outputs": [
    {
     "name": "stdout",
     "output_type": "stream",
     "text": [
      "Processing board instructables/woodworking\n",
      "Processing board plumprettysugar/nursery\n",
      "Processing board damndelicious/cake\n",
      "Processing board dvf/travel\n",
      "Processing board halinkis/sailboat\n",
      "Processing board anamwagner/hiking\n",
      "Processing board spearmintbaby/nursery\n",
      "Processing board aptapothecary/nursery\n",
      "Processing board CoyoteAsh/sailboat\n",
      "Processing board designlovelife/nursery\n",
      "Processing board lana159/sailboat\n",
      "Processing board myitchytravelft/hiking\n",
      "Processing board family_handyman/woodworking\n",
      "Processing board shoppinkblush/nursery\n",
      "Processing board nasti/travel\n",
      "Processing board jacquelynclark/cake\n",
      "Processing board kellyjoartist/sailboat\n",
      "Processing board plumprettysugar/cake\n",
      "Processing board lmmckenna60/sailboat\n",
      "Processing board diyboards/woodworking\n",
      "Processing board survivallife/hiking\n",
      "Processing board juneandjanuary_/nursery\n",
      "Processing board maribelal/hiking\n",
      "Processing board galmeetsglam/travel\n",
      "Processing board twopeasandpod/cake\n",
      "Processing board stazerbeam/liveaboard-sailboat\n",
      "Processing board savedbylove/woodworking\n",
      "Processing board CasaBella1st/nursery\n",
      "Processing board polyvore/spring-dress-outfits\n",
      "Processing board jo484bu/hiking\n",
      "Processing board amyfeezor/cake\n",
      "Processing board SawdustGirl/woodworking\n",
      "Processing board papertraildesig/hiking\n",
      "Processing board alexelliott85/nursery\n",
      "Processing board tinawillson0/spring-dress\n",
      "Processing board tena2at/spring-dresses\n",
      "Processing board hertoolbelt/woodworking\n",
      "Processing board amerrymishap/travel\n",
      "Processing board savorysimple/cake\n",
      "Processing board moonwitchkitty/hiking\n",
      "Processing board neonnoe/woodworking\n",
      "Processing board jujupapers/nursery\n",
      "Processing board sycamore_co/travel\n",
      "Processing board cristinaperalta/spring-dresses\n",
      "Processing board bigwsmallp/hiking\n",
      "Processing board willfrolforfood/eat-cake\n",
      "Processing board matteonativo/woodworking\n",
      "Processing board calivintage/nursery\n",
      "Processing board designlovelife/travel\n",
      "Processing board ayokamunoz/spring-dresses\n",
      "Processing board threadedbasil/cake\n",
      "Processing board ronjanisse/hiking\n",
      "Processing board designseedslove/spring\n",
      "Processing board jeffsieh/woodworking\n",
      "Processing board acookandherbook/hiking\n",
      "Processing board frugalgirls/italian-recipes\n",
      "Processing board jtrophy/spring-dresses-for-sale\n",
      "Processing board deananddeluca/spring\n",
      "Processing board iowagirleats/italian-recipes\n",
      "Processing board noubablog/cake\n",
      "Processing board mooreaseal/travel\n",
      "Processing board slowroasted/italian-recipes\n",
      "Processing board dave_fowler/woodworking\n",
      "Processing board madam2u/spring-dresses\n",
      "Processing board ariannafrasca82/spring\n",
      "Processing board fancyclothing/spring-dresses\n",
      "Processing board JillLevenhagen/italian-recipes\n",
      "Processing board hatchcollection/spring\n",
      "Processing board jordanferney/travel\n",
      "Processing board tastemade/cake\n",
      "Processing board caitlin_cawley/dogs\n",
      "Processing board Katydate/spring-dressing\n",
      "Processing board tmbcollier/spring-dressing\n",
      "Processing board realsimple/travel\n",
      "Processing board mrfrankbarb/italian-recipes\n",
      "Processing board playbuzz/dogs\n",
      "Processing board thenotepasser/spring\n",
      "Processing board alaridesign/dogs\n",
      "Processing board tastesoflizzyt/italian-recipes\n",
      "Processing board jennikayne/travel\n",
      "Processing board frostpetticoat/spring\n",
      "Processing board paola_gambetti/dogs\n",
      "Processing board KarelLucas/italian-recipes\n",
      "Processing board lobsterandswan/spring\n",
      "Processing board enmibolso/dogs\n",
      "Processing board foodandwine/italian-recipes\n",
      "Processing board anabeumanzano/spring\n",
      "Processing board stargazermerc/dogs\n",
      "Processing board chelseabirdd/spring\n",
      "Processing board deliciousAUS/italian-recipes\n",
      "Processing board realhomecook/italian-recipes\n",
      "Processing board leasheffield/dogs\n",
      "Processing board BeateMoehring/spring\n",
      "Processing board kittyklan/dogs\n",
      "Processing board dhawkins12345/dogs\n",
      "Processing board tocadomosaico/dogs\n"
     ]
    }
   ],
   "source": [
    "with concurrent.futures.ThreadPoolExecutor(6) as executor:\n",
    "    futs = [executor.submit(process_query, x) for x in QUERIES]\n",
    "    concurrent.futures.wait(futs)"
   ]
  },
  {
   "cell_type": "code",
   "execution_count": null,
   "metadata": {
    "collapsed": true
   },
   "outputs": [],
   "source": []
  }
 ],
 "metadata": {
  "kernelspec": {
   "display_name": "Python 2",
   "language": "python",
   "name": "python2"
  },
  "language_info": {
   "codemirror_mode": {
    "name": "ipython",
    "version": 2
   },
   "file_extension": ".py",
   "mimetype": "text/x-python",
   "name": "python",
   "nbconvert_exporter": "python",
   "pygments_lexer": "ipython2",
   "version": "2.7.3"
  }
 },
 "nbformat": 4,
 "nbformat_minor": 0
}
